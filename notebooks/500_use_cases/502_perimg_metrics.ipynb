{
 "cells": [
  {
   "attachments": {},
   "cell_type": "markdown",
   "metadata": {},
   "source": [
    "# Per-Image Metrics\n",
    "\n",
    "How to use, plot, and compare models using per-image [pixel-wise] metrics. "
   ]
  },
  {
   "cell_type": "markdown",
   "metadata": {},
   "source": [
    "# Installing Anomalib\n",
    "\n",
    "The easiest way to install anomalib is to use pip. You can install it from the command line using the following command:\n"
   ]
  },
  {
   "cell_type": "code",
   "execution_count": 1,
   "metadata": {},
   "outputs": [
    {
     "name": "stdout",
     "output_type": "stream",
     "text": [
      "Requirement already satisfied: anomalib in /home/jcasagrandebertoldo/repos/anomalib/src (1.0.0.dev0)\n",
      "Requirement already satisfied: albumentations>=1.1.0 in /home/jcasagrandebertoldo/miniconda3/envs/anomalib-dev-gsoc/lib/python3.10/site-packages (from anomalib) (1.3.1)\n",
      "Requirement already satisfied: av>=10.0.0 in /home/jcasagrandebertoldo/miniconda3/envs/anomalib-dev-gsoc/lib/python3.10/site-packages (from anomalib) (10.0.0)\n",
      "Requirement already satisfied: einops>=0.3.2 in /home/jcasagrandebertoldo/miniconda3/envs/anomalib-dev-gsoc/lib/python3.10/site-packages (from anomalib) (0.6.1)\n",
      "Requirement already satisfied: freia>=0.2 in /home/jcasagrandebertoldo/miniconda3/envs/anomalib-dev-gsoc/lib/python3.10/site-packages (from anomalib) (0.2)\n",
      "Requirement already satisfied: imgaug==0.4.0 in /home/jcasagrandebertoldo/miniconda3/envs/anomalib-dev-gsoc/lib/python3.10/site-packages (from anomalib) (0.4.0)\n",
      "Requirement already satisfied: jsonargparse[signatures]>=4.3 in /home/jcasagrandebertoldo/miniconda3/envs/anomalib-dev-gsoc/lib/python3.10/site-packages (from anomalib) (4.23.0)\n",
      "Requirement already satisfied: kornia<0.6.10,>=0.6.6 in /home/jcasagrandebertoldo/miniconda3/envs/anomalib-dev-gsoc/lib/python3.10/site-packages (from anomalib) (0.6.9)\n",
      "Requirement already satisfied: matplotlib>=3.4.3 in /home/jcasagrandebertoldo/miniconda3/envs/anomalib-dev-gsoc/lib/python3.10/site-packages (from anomalib) (3.7.2)\n",
      "Requirement already satisfied: omegaconf>=2.1.1 in /home/jcasagrandebertoldo/miniconda3/envs/anomalib-dev-gsoc/lib/python3.10/site-packages (from anomalib) (2.3.0)\n",
      "Requirement already satisfied: opencv-python>=4.5.3.56 in /home/jcasagrandebertoldo/miniconda3/envs/anomalib-dev-gsoc/lib/python3.10/site-packages (from anomalib) (4.8.0.74)\n",
      "Requirement already satisfied: pandas>=1.1.0 in /home/jcasagrandebertoldo/miniconda3/envs/anomalib-dev-gsoc/lib/python3.10/site-packages (from anomalib) (2.0.3)\n",
      "Requirement already satisfied: pytorch-lightning<1.10.0,>=1.7.0 in /home/jcasagrandebertoldo/miniconda3/envs/anomalib-dev-gsoc/lib/python3.10/site-packages (from anomalib) (1.9.5)\n",
      "Requirement already satisfied: timm<=0.6.12,>=0.5.4 in /home/jcasagrandebertoldo/miniconda3/envs/anomalib-dev-gsoc/lib/python3.10/site-packages (from anomalib) (0.6.12)\n",
      "Requirement already satisfied: torchmetrics==0.10.3 in /home/jcasagrandebertoldo/miniconda3/envs/anomalib-dev-gsoc/lib/python3.10/site-packages (from anomalib) (0.10.3)\n",
      "Requirement already satisfied: scipy in /home/jcasagrandebertoldo/miniconda3/envs/anomalib-dev-gsoc/lib/python3.10/site-packages (from imgaug==0.4.0->anomalib) (1.10.1)\n",
      "Requirement already satisfied: Shapely in /home/jcasagrandebertoldo/miniconda3/envs/anomalib-dev-gsoc/lib/python3.10/site-packages (from imgaug==0.4.0->anomalib) (2.0.1)\n",
      "Requirement already satisfied: scikit-image>=0.14.2 in /home/jcasagrandebertoldo/miniconda3/envs/anomalib-dev-gsoc/lib/python3.10/site-packages (from imgaug==0.4.0->anomalib) (0.21.0)\n",
      "Requirement already satisfied: imageio in /home/jcasagrandebertoldo/miniconda3/envs/anomalib-dev-gsoc/lib/python3.10/site-packages (from imgaug==0.4.0->anomalib) (2.31.1)\n",
      "Requirement already satisfied: Pillow in /home/jcasagrandebertoldo/miniconda3/envs/anomalib-dev-gsoc/lib/python3.10/site-packages (from imgaug==0.4.0->anomalib) (10.0.0)\n",
      "Requirement already satisfied: six in /home/jcasagrandebertoldo/miniconda3/envs/anomalib-dev-gsoc/lib/python3.10/site-packages (from imgaug==0.4.0->anomalib) (1.16.0)\n",
      "Requirement already satisfied: numpy>=1.15 in /home/jcasagrandebertoldo/miniconda3/envs/anomalib-dev-gsoc/lib/python3.10/site-packages (from imgaug==0.4.0->anomalib) (1.23.5)\n",
      "Requirement already satisfied: packaging in /home/jcasagrandebertoldo/miniconda3/envs/anomalib-dev-gsoc/lib/python3.10/site-packages (from torchmetrics==0.10.3->anomalib) (23.1)\n",
      "Requirement already satisfied: torch>=1.3.1 in /home/jcasagrandebertoldo/miniconda3/envs/anomalib-dev-gsoc/lib/python3.10/site-packages (from torchmetrics==0.10.3->anomalib) (2.0.1)\n",
      "Requirement already satisfied: PyYAML in /home/jcasagrandebertoldo/miniconda3/envs/anomalib-dev-gsoc/lib/python3.10/site-packages (from albumentations>=1.1.0->anomalib) (6.0.1)\n",
      "Requirement already satisfied: opencv-python-headless>=4.1.1 in /home/jcasagrandebertoldo/miniconda3/envs/anomalib-dev-gsoc/lib/python3.10/site-packages (from albumentations>=1.1.0->anomalib) (4.8.0.74)\n",
      "Requirement already satisfied: qudida>=0.0.4 in /home/jcasagrandebertoldo/miniconda3/envs/anomalib-dev-gsoc/lib/python3.10/site-packages (from albumentations>=1.1.0->anomalib) (0.0.4)\n",
      "Requirement already satisfied: typeshed-client>=2.1.0 in /home/jcasagrandebertoldo/miniconda3/envs/anomalib-dev-gsoc/lib/python3.10/site-packages (from jsonargparse[signatures]>=4.3->anomalib) (2.3.0)\n",
      "Requirement already satisfied: docstring-parser>=0.15 in /home/jcasagrandebertoldo/miniconda3/envs/anomalib-dev-gsoc/lib/python3.10/site-packages (from jsonargparse[signatures]>=4.3->anomalib) (0.15)\n",
      "Requirement already satisfied: contourpy>=1.0.1 in /home/jcasagrandebertoldo/miniconda3/envs/anomalib-dev-gsoc/lib/python3.10/site-packages (from matplotlib>=3.4.3->anomalib) (1.1.0)\n",
      "Requirement already satisfied: kiwisolver>=1.0.1 in /home/jcasagrandebertoldo/miniconda3/envs/anomalib-dev-gsoc/lib/python3.10/site-packages (from matplotlib>=3.4.3->anomalib) (1.4.4)\n",
      "Requirement already satisfied: fonttools>=4.22.0 in /home/jcasagrandebertoldo/miniconda3/envs/anomalib-dev-gsoc/lib/python3.10/site-packages (from matplotlib>=3.4.3->anomalib) (4.41.1)\n",
      "Requirement already satisfied: cycler>=0.10 in /home/jcasagrandebertoldo/miniconda3/envs/anomalib-dev-gsoc/lib/python3.10/site-packages (from matplotlib>=3.4.3->anomalib) (0.11.0)\n",
      "Requirement already satisfied: python-dateutil>=2.7 in /home/jcasagrandebertoldo/miniconda3/envs/anomalib-dev-gsoc/lib/python3.10/site-packages (from matplotlib>=3.4.3->anomalib) (2.8.2)\n",
      "Requirement already satisfied: pyparsing<3.1,>=2.3.1 in /home/jcasagrandebertoldo/miniconda3/envs/anomalib-dev-gsoc/lib/python3.10/site-packages (from matplotlib>=3.4.3->anomalib) (2.4.7)\n",
      "Requirement already satisfied: antlr4-python3-runtime==4.9.* in /home/jcasagrandebertoldo/miniconda3/envs/anomalib-dev-gsoc/lib/python3.10/site-packages (from omegaconf>=2.1.1->anomalib) (4.9.3)\n",
      "Requirement already satisfied: tzdata>=2022.1 in /home/jcasagrandebertoldo/miniconda3/envs/anomalib-dev-gsoc/lib/python3.10/site-packages (from pandas>=1.1.0->anomalib) (2023.3)\n",
      "Requirement already satisfied: pytz>=2020.1 in /home/jcasagrandebertoldo/miniconda3/envs/anomalib-dev-gsoc/lib/python3.10/site-packages (from pandas>=1.1.0->anomalib) (2023.3)\n",
      "Requirement already satisfied: tqdm>=4.57.0 in /home/jcasagrandebertoldo/miniconda3/envs/anomalib-dev-gsoc/lib/python3.10/site-packages (from pytorch-lightning<1.10.0,>=1.7.0->anomalib) (4.65.0)\n",
      "Requirement already satisfied: lightning-utilities>=0.6.0.post0 in /home/jcasagrandebertoldo/miniconda3/envs/anomalib-dev-gsoc/lib/python3.10/site-packages (from pytorch-lightning<1.10.0,>=1.7.0->anomalib) (0.9.0)\n",
      "Requirement already satisfied: fsspec[http]>2021.06.0 in /home/jcasagrandebertoldo/miniconda3/envs/anomalib-dev-gsoc/lib/python3.10/site-packages (from pytorch-lightning<1.10.0,>=1.7.0->anomalib) (2023.6.0)\n",
      "Requirement already satisfied: typing-extensions>=4.0.0 in /home/jcasagrandebertoldo/miniconda3/envs/anomalib-dev-gsoc/lib/python3.10/site-packages (from pytorch-lightning<1.10.0,>=1.7.0->anomalib) (4.7.1)\n",
      "Requirement already satisfied: aiohttp!=4.0.0a0,!=4.0.0a1 in /home/jcasagrandebertoldo/miniconda3/envs/anomalib-dev-gsoc/lib/python3.10/site-packages (from fsspec[http]>2021.06.0->pytorch-lightning<1.10.0,>=1.7.0->anomalib) (3.8.5)\n",
      "Requirement already satisfied: requests in /home/jcasagrandebertoldo/miniconda3/envs/anomalib-dev-gsoc/lib/python3.10/site-packages (from fsspec[http]>2021.06.0->pytorch-lightning<1.10.0,>=1.7.0->anomalib) (2.31.0)\n",
      "Requirement already satisfied: multidict<7.0,>=4.5 in /home/jcasagrandebertoldo/miniconda3/envs/anomalib-dev-gsoc/lib/python3.10/site-packages (from aiohttp!=4.0.0a0,!=4.0.0a1->fsspec[http]>2021.06.0->pytorch-lightning<1.10.0,>=1.7.0->anomalib) (6.0.4)\n",
      "Requirement already satisfied: aiosignal>=1.1.2 in /home/jcasagrandebertoldo/miniconda3/envs/anomalib-dev-gsoc/lib/python3.10/site-packages (from aiohttp!=4.0.0a0,!=4.0.0a1->fsspec[http]>2021.06.0->pytorch-lightning<1.10.0,>=1.7.0->anomalib) (1.3.1)\n",
      "Requirement already satisfied: charset-normalizer<4.0,>=2.0 in /home/jcasagrandebertoldo/miniconda3/envs/anomalib-dev-gsoc/lib/python3.10/site-packages (from aiohttp!=4.0.0a0,!=4.0.0a1->fsspec[http]>2021.06.0->pytorch-lightning<1.10.0,>=1.7.0->anomalib) (3.2.0)\n",
      "Requirement already satisfied: yarl<2.0,>=1.0 in /home/jcasagrandebertoldo/miniconda3/envs/anomalib-dev-gsoc/lib/python3.10/site-packages (from aiohttp!=4.0.0a0,!=4.0.0a1->fsspec[http]>2021.06.0->pytorch-lightning<1.10.0,>=1.7.0->anomalib) (1.9.2)\n",
      "Requirement already satisfied: frozenlist>=1.1.1 in /home/jcasagrandebertoldo/miniconda3/envs/anomalib-dev-gsoc/lib/python3.10/site-packages (from aiohttp!=4.0.0a0,!=4.0.0a1->fsspec[http]>2021.06.0->pytorch-lightning<1.10.0,>=1.7.0->anomalib) (1.4.0)\n",
      "Requirement already satisfied: attrs>=17.3.0 in /home/jcasagrandebertoldo/miniconda3/envs/anomalib-dev-gsoc/lib/python3.10/site-packages (from aiohttp!=4.0.0a0,!=4.0.0a1->fsspec[http]>2021.06.0->pytorch-lightning<1.10.0,>=1.7.0->anomalib) (22.1.0)\n",
      "Requirement already satisfied: async-timeout<5.0,>=4.0.0a3 in /home/jcasagrandebertoldo/miniconda3/envs/anomalib-dev-gsoc/lib/python3.10/site-packages (from aiohttp!=4.0.0a0,!=4.0.0a1->fsspec[http]>2021.06.0->pytorch-lightning<1.10.0,>=1.7.0->anomalib) (4.0.2)\n",
      "Requirement already satisfied: scikit-learn>=0.19.1 in /home/jcasagrandebertoldo/miniconda3/envs/anomalib-dev-gsoc/lib/python3.10/site-packages (from qudida>=0.0.4->albumentations>=1.1.0->anomalib) (1.3.0)\n",
      "Requirement already satisfied: tifffile>=2022.8.12 in /home/jcasagrandebertoldo/miniconda3/envs/anomalib-dev-gsoc/lib/python3.10/site-packages (from scikit-image>=0.14.2->imgaug==0.4.0->anomalib) (2023.7.18)\n",
      "Requirement already satisfied: PyWavelets>=1.1.1 in /home/jcasagrandebertoldo/miniconda3/envs/anomalib-dev-gsoc/lib/python3.10/site-packages (from scikit-image>=0.14.2->imgaug==0.4.0->anomalib) (1.4.1)\n",
      "Requirement already satisfied: lazy_loader>=0.2 in /home/jcasagrandebertoldo/miniconda3/envs/anomalib-dev-gsoc/lib/python3.10/site-packages (from scikit-image>=0.14.2->imgaug==0.4.0->anomalib) (0.3)\n",
      "Requirement already satisfied: networkx>=2.8 in /home/jcasagrandebertoldo/miniconda3/envs/anomalib-dev-gsoc/lib/python3.10/site-packages (from scikit-image>=0.14.2->imgaug==0.4.0->anomalib) (2.8.2)\n",
      "Requirement already satisfied: threadpoolctl>=2.0.0 in /home/jcasagrandebertoldo/miniconda3/envs/anomalib-dev-gsoc/lib/python3.10/site-packages (from scikit-learn>=0.19.1->qudida>=0.0.4->albumentations>=1.1.0->anomalib) (3.2.0)\n",
      "Requirement already satisfied: joblib>=1.1.1 in /home/jcasagrandebertoldo/miniconda3/envs/anomalib-dev-gsoc/lib/python3.10/site-packages (from scikit-learn>=0.19.1->qudida>=0.0.4->albumentations>=1.1.0->anomalib) (1.3.1)\n",
      "Requirement already satisfied: torchvision in /home/jcasagrandebertoldo/miniconda3/envs/anomalib-dev-gsoc/lib/python3.10/site-packages (from timm<=0.6.12,>=0.5.4->anomalib) (0.15.2)\n",
      "Requirement already satisfied: huggingface-hub in /home/jcasagrandebertoldo/miniconda3/envs/anomalib-dev-gsoc/lib/python3.10/site-packages (from timm<=0.6.12,>=0.5.4->anomalib) (0.16.4)\n",
      "Requirement already satisfied: sympy in /home/jcasagrandebertoldo/miniconda3/envs/anomalib-dev-gsoc/lib/python3.10/site-packages (from torch>=1.3.1->torchmetrics==0.10.3->anomalib) (1.12)\n",
      "Requirement already satisfied: jinja2 in /home/jcasagrandebertoldo/miniconda3/envs/anomalib-dev-gsoc/lib/python3.10/site-packages (from torch>=1.3.1->torchmetrics==0.10.3->anomalib) (3.1.2)\n",
      "Requirement already satisfied: nvidia-cuda-nvrtc-cu11==11.7.99 in /home/jcasagrandebertoldo/miniconda3/envs/anomalib-dev-gsoc/lib/python3.10/site-packages (from torch>=1.3.1->torchmetrics==0.10.3->anomalib) (11.7.99)\n",
      "Requirement already satisfied: nvidia-cuda-runtime-cu11==11.7.99 in /home/jcasagrandebertoldo/miniconda3/envs/anomalib-dev-gsoc/lib/python3.10/site-packages (from torch>=1.3.1->torchmetrics==0.10.3->anomalib) (11.7.99)\n",
      "Requirement already satisfied: nvidia-cudnn-cu11==8.5.0.96 in /home/jcasagrandebertoldo/miniconda3/envs/anomalib-dev-gsoc/lib/python3.10/site-packages (from torch>=1.3.1->torchmetrics==0.10.3->anomalib) (8.5.0.96)\n",
      "Requirement already satisfied: nvidia-cublas-cu11==11.10.3.66 in /home/jcasagrandebertoldo/miniconda3/envs/anomalib-dev-gsoc/lib/python3.10/site-packages (from torch>=1.3.1->torchmetrics==0.10.3->anomalib) (11.10.3.66)\n",
      "Requirement already satisfied: nvidia-cufft-cu11==10.9.0.58 in /home/jcasagrandebertoldo/miniconda3/envs/anomalib-dev-gsoc/lib/python3.10/site-packages (from torch>=1.3.1->torchmetrics==0.10.3->anomalib) (10.9.0.58)\n",
      "Requirement already satisfied: triton==2.0.0 in /home/jcasagrandebertoldo/miniconda3/envs/anomalib-dev-gsoc/lib/python3.10/site-packages (from torch>=1.3.1->torchmetrics==0.10.3->anomalib) (2.0.0)\n",
      "Requirement already satisfied: nvidia-curand-cu11==10.2.10.91 in /home/jcasagrandebertoldo/miniconda3/envs/anomalib-dev-gsoc/lib/python3.10/site-packages (from torch>=1.3.1->torchmetrics==0.10.3->anomalib) (10.2.10.91)\n",
      "Requirement already satisfied: nvidia-cusolver-cu11==11.4.0.1 in /home/jcasagrandebertoldo/miniconda3/envs/anomalib-dev-gsoc/lib/python3.10/site-packages (from torch>=1.3.1->torchmetrics==0.10.3->anomalib) (11.4.0.1)\n",
      "Requirement already satisfied: nvidia-cuda-cupti-cu11==11.7.101 in /home/jcasagrandebertoldo/miniconda3/envs/anomalib-dev-gsoc/lib/python3.10/site-packages (from torch>=1.3.1->torchmetrics==0.10.3->anomalib) (11.7.101)\n",
      "Requirement already satisfied: nvidia-nvtx-cu11==11.7.91 in /home/jcasagrandebertoldo/miniconda3/envs/anomalib-dev-gsoc/lib/python3.10/site-packages (from torch>=1.3.1->torchmetrics==0.10.3->anomalib) (11.7.91)\n",
      "Requirement already satisfied: filelock in /home/jcasagrandebertoldo/miniconda3/envs/anomalib-dev-gsoc/lib/python3.10/site-packages (from torch>=1.3.1->torchmetrics==0.10.3->anomalib) (3.12.2)\n",
      "Requirement already satisfied: nvidia-nccl-cu11==2.14.3 in /home/jcasagrandebertoldo/miniconda3/envs/anomalib-dev-gsoc/lib/python3.10/site-packages (from torch>=1.3.1->torchmetrics==0.10.3->anomalib) (2.14.3)\n",
      "Requirement already satisfied: nvidia-cusparse-cu11==11.7.4.91 in /home/jcasagrandebertoldo/miniconda3/envs/anomalib-dev-gsoc/lib/python3.10/site-packages (from torch>=1.3.1->torchmetrics==0.10.3->anomalib) (11.7.4.91)\n",
      "Requirement already satisfied: setuptools in /home/jcasagrandebertoldo/miniconda3/envs/anomalib-dev-gsoc/lib/python3.10/site-packages (from nvidia-cublas-cu11==11.10.3.66->torch>=1.3.1->torchmetrics==0.10.3->anomalib) (57.4.0)\n",
      "Requirement already satisfied: wheel in /home/jcasagrandebertoldo/miniconda3/envs/anomalib-dev-gsoc/lib/python3.10/site-packages (from nvidia-cublas-cu11==11.10.3.66->torch>=1.3.1->torchmetrics==0.10.3->anomalib) (0.38.4)\n",
      "Requirement already satisfied: lit in /home/jcasagrandebertoldo/miniconda3/envs/anomalib-dev-gsoc/lib/python3.10/site-packages (from triton==2.0.0->torch>=1.3.1->torchmetrics==0.10.3->anomalib) (16.0.6)\n",
      "Requirement already satisfied: cmake in /home/jcasagrandebertoldo/miniconda3/envs/anomalib-dev-gsoc/lib/python3.10/site-packages (from triton==2.0.0->torch>=1.3.1->torchmetrics==0.10.3->anomalib) (3.27.0)\n",
      "Requirement already satisfied: importlib-resources>=1.4.0 in /home/jcasagrandebertoldo/miniconda3/envs/anomalib-dev-gsoc/lib/python3.10/site-packages (from typeshed-client>=2.1.0->jsonargparse[signatures]>=4.3->anomalib) (5.2.0)\n",
      "Requirement already satisfied: idna>=2.0 in /home/jcasagrandebertoldo/miniconda3/envs/anomalib-dev-gsoc/lib/python3.10/site-packages (from yarl<2.0,>=1.0->aiohttp!=4.0.0a0,!=4.0.0a1->fsspec[http]>2021.06.0->pytorch-lightning<1.10.0,>=1.7.0->anomalib) (3.4)\n",
      "Requirement already satisfied: MarkupSafe>=2.0 in /home/jcasagrandebertoldo/miniconda3/envs/anomalib-dev-gsoc/lib/python3.10/site-packages (from jinja2->torch>=1.3.1->torchmetrics==0.10.3->anomalib) (2.1.1)\n",
      "Requirement already satisfied: urllib3<3,>=1.21.1 in /home/jcasagrandebertoldo/miniconda3/envs/anomalib-dev-gsoc/lib/python3.10/site-packages (from requests->fsspec[http]>2021.06.0->pytorch-lightning<1.10.0,>=1.7.0->anomalib) (2.0.4)\n",
      "Requirement already satisfied: certifi>=2017.4.17 in /home/jcasagrandebertoldo/miniconda3/envs/anomalib-dev-gsoc/lib/python3.10/site-packages (from requests->fsspec[http]>2021.06.0->pytorch-lightning<1.10.0,>=1.7.0->anomalib) (2023.7.22)\n",
      "Requirement already satisfied: mpmath>=0.19 in /home/jcasagrandebertoldo/miniconda3/envs/anomalib-dev-gsoc/lib/python3.10/site-packages (from sympy->torch>=1.3.1->torchmetrics==0.10.3->anomalib) (1.3.0)\n",
      "Note: you may need to restart the kernel to use updated packages.\n"
     ]
    }
   ],
   "source": [
    "%pip install anomalib"
   ]
  },
  {
   "cell_type": "markdown",
   "metadata": {},
   "source": [
    "# Data\n",
    "\n",
    "We will use MVTec AD DataModule. \n",
    "\n",
    "> See [these notebooks](https://github.com/openvinotoolkit/anomalib/tree/main/notebooks/100_datamodules) for more details on datamodules. \n",
    "\n",
    "We assume that `datasets` directory is created in the `anomalib` root directory and `MVTec` dataset is located in `datasets` directory."
   ]
  },
  {
   "cell_type": "code",
   "execution_count": 2,
   "metadata": {},
   "outputs": [],
   "source": [
    "from pathlib import Path\n",
    "\n",
    "# NOTE: Provide the path to the dataset root directory.\n",
    "#   If the datasets is not downloaded, it will be downloaded to this directory.\n",
    "dataset_root = Path.cwd().parent.parent / \"datasets\" / \"MVTec\""
   ]
  },
  {
   "cell_type": "markdown",
   "metadata": {},
   "source": [
    "We will be working on a segmentation task. "
   ]
  },
  {
   "cell_type": "code",
   "execution_count": 3,
   "metadata": {},
   "outputs": [
    {
     "ename": "KeyboardInterrupt",
     "evalue": "",
     "output_type": "error",
     "traceback": [
      "\u001b[0;31m---------------------------------------------------------------------------\u001b[0m",
      "\u001b[0;31mKeyboardInterrupt\u001b[0m                         Traceback (most recent call last)",
      "Cell \u001b[0;32mIn[3], line 1\u001b[0m\n\u001b[0;32m----> 1\u001b[0m \u001b[39mfrom\u001b[39;00m \u001b[39manomalib\u001b[39;00m\u001b[39m.\u001b[39;00m\u001b[39mdata\u001b[39;00m \u001b[39mimport\u001b[39;00m TaskType\n\u001b[1;32m      3\u001b[0m task \u001b[39m=\u001b[39m TaskType\u001b[39m.\u001b[39mSEGMENTATION\n",
      "File \u001b[0;32m~/repos/anomalib/src/anomalib/data/__init__.py:13\u001b[0m\n\u001b[1;32m      9\u001b[0m \u001b[39mfrom\u001b[39;00m \u001b[39menum\u001b[39;00m \u001b[39mimport\u001b[39;00m Enum\n\u001b[1;32m     11\u001b[0m \u001b[39mfrom\u001b[39;00m \u001b[39momegaconf\u001b[39;00m \u001b[39mimport\u001b[39;00m DictConfig, ListConfig\n\u001b[0;32m---> 13\u001b[0m \u001b[39mfrom\u001b[39;00m \u001b[39m.\u001b[39;00m\u001b[39mavenue\u001b[39;00m \u001b[39mimport\u001b[39;00m Avenue\n\u001b[1;32m     14\u001b[0m \u001b[39mfrom\u001b[39;00m \u001b[39m.\u001b[39;00m\u001b[39mbase\u001b[39;00m \u001b[39mimport\u001b[39;00m AnomalibDataModule, AnomalibDataset\n\u001b[1;32m     15\u001b[0m \u001b[39mfrom\u001b[39;00m \u001b[39m.\u001b[39;00m\u001b[39mbtech\u001b[39;00m \u001b[39mimport\u001b[39;00m BTech\n",
      "File \u001b[0;32m~/repos/anomalib/src/anomalib/data/avenue.py:30\u001b[0m\n\u001b[1;32m     27\u001b[0m \u001b[39mimport\u001b[39;00m \u001b[39mscipy\u001b[39;00m\u001b[39m.\u001b[39;00m\u001b[39mio\u001b[39;00m\n\u001b[1;32m     28\u001b[0m \u001b[39mfrom\u001b[39;00m \u001b[39mpandas\u001b[39;00m \u001b[39mimport\u001b[39;00m DataFrame\n\u001b[0;32m---> 30\u001b[0m \u001b[39mfrom\u001b[39;00m \u001b[39manomalib\u001b[39;00m\u001b[39m.\u001b[39;00m\u001b[39mdata\u001b[39;00m\u001b[39m.\u001b[39;00m\u001b[39mbase\u001b[39;00m \u001b[39mimport\u001b[39;00m AnomalibVideoDataModule, AnomalibVideoDataset\n\u001b[1;32m     31\u001b[0m \u001b[39mfrom\u001b[39;00m \u001b[39manomalib\u001b[39;00m\u001b[39m.\u001b[39;00m\u001b[39mdata\u001b[39;00m\u001b[39m.\u001b[39;00m\u001b[39mbase\u001b[39;00m\u001b[39m.\u001b[39;00m\u001b[39mvideo\u001b[39;00m \u001b[39mimport\u001b[39;00m VideoTargetFrame\n\u001b[1;32m     32\u001b[0m \u001b[39mfrom\u001b[39;00m \u001b[39manomalib\u001b[39;00m\u001b[39m.\u001b[39;00m\u001b[39mdata\u001b[39;00m\u001b[39m.\u001b[39;00m\u001b[39mtask_type\u001b[39;00m \u001b[39mimport\u001b[39;00m TaskType\n",
      "File \u001b[0;32m~/repos/anomalib/src/anomalib/data/base/__init__.py:7\u001b[0m\n\u001b[1;32m      1\u001b[0m \u001b[39m\"\"\"Base classes for custom dataset and datamodules.\"\"\"\u001b[39;00m\n\u001b[1;32m      3\u001b[0m \u001b[39m# Copyright (C) 2022 Intel Corporation\u001b[39;00m\n\u001b[1;32m      4\u001b[0m \u001b[39m# SPDX-License-Identifier: Apache-2.0\u001b[39;00m\n\u001b[0;32m----> 7\u001b[0m \u001b[39mfrom\u001b[39;00m \u001b[39m.\u001b[39;00m\u001b[39mdatamodule\u001b[39;00m \u001b[39mimport\u001b[39;00m AnomalibDataModule\n\u001b[1;32m      8\u001b[0m \u001b[39mfrom\u001b[39;00m \u001b[39m.\u001b[39;00m\u001b[39mdataset\u001b[39;00m \u001b[39mimport\u001b[39;00m AnomalibDataset\n\u001b[1;32m      9\u001b[0m \u001b[39mfrom\u001b[39;00m \u001b[39m.\u001b[39;00m\u001b[39mdepth\u001b[39;00m \u001b[39mimport\u001b[39;00m AnomalibDepthDataset\n",
      "File \u001b[0;32m~/repos/anomalib/src/anomalib/data/base/datamodule.py:13\u001b[0m\n\u001b[1;32m     10\u001b[0m \u001b[39mfrom\u001b[39;00m \u001b[39mtyping\u001b[39;00m \u001b[39mimport\u001b[39;00m Any\n\u001b[1;32m     12\u001b[0m \u001b[39mfrom\u001b[39;00m \u001b[39mpandas\u001b[39;00m \u001b[39mimport\u001b[39;00m DataFrame\n\u001b[0;32m---> 13\u001b[0m \u001b[39mfrom\u001b[39;00m \u001b[39mpytorch_lightning\u001b[39;00m \u001b[39mimport\u001b[39;00m LightningDataModule\n\u001b[1;32m     14\u001b[0m \u001b[39mfrom\u001b[39;00m \u001b[39mpytorch_lightning\u001b[39;00m\u001b[39m.\u001b[39;00m\u001b[39mutilities\u001b[39;00m\u001b[39m.\u001b[39;00m\u001b[39mtypes\u001b[39;00m \u001b[39mimport\u001b[39;00m EVAL_DATALOADERS, TRAIN_DATALOADERS\n\u001b[1;32m     15\u001b[0m \u001b[39mfrom\u001b[39;00m \u001b[39mtorch\u001b[39;00m\u001b[39m.\u001b[39;00m\u001b[39mutils\u001b[39;00m\u001b[39m.\u001b[39;00m\u001b[39mdata\u001b[39;00m\u001b[39m.\u001b[39;00m\u001b[39mdataloader\u001b[39;00m \u001b[39mimport\u001b[39;00m DataLoader, default_collate\n",
      "File \u001b[0;32m~/miniconda3/envs/anomalib-dev-gsoc/lib/python3.10/site-packages/pytorch_lightning/__init__.py:34\u001b[0m\n\u001b[1;32m     31\u001b[0m     _logger\u001b[39m.\u001b[39maddHandler(logging\u001b[39m.\u001b[39mStreamHandler())\n\u001b[1;32m     32\u001b[0m     _logger\u001b[39m.\u001b[39mpropagate \u001b[39m=\u001b[39m \u001b[39mFalse\u001b[39;00m\n\u001b[0;32m---> 34\u001b[0m \u001b[39mfrom\u001b[39;00m \u001b[39mlightning_fabric\u001b[39;00m\u001b[39m.\u001b[39;00m\u001b[39mutilities\u001b[39;00m\u001b[39m.\u001b[39;00m\u001b[39mseed\u001b[39;00m \u001b[39mimport\u001b[39;00m seed_everything  \u001b[39m# noqa: E402\u001b[39;00m\n\u001b[1;32m     35\u001b[0m \u001b[39mfrom\u001b[39;00m \u001b[39mpytorch_lightning\u001b[39;00m\u001b[39m.\u001b[39;00m\u001b[39mcallbacks\u001b[39;00m \u001b[39mimport\u001b[39;00m Callback  \u001b[39m# noqa: E402\u001b[39;00m\n\u001b[1;32m     36\u001b[0m \u001b[39mfrom\u001b[39;00m \u001b[39mpytorch_lightning\u001b[39;00m\u001b[39m.\u001b[39;00m\u001b[39mcore\u001b[39;00m \u001b[39mimport\u001b[39;00m LightningDataModule, LightningModule  \u001b[39m# noqa: E402\u001b[39;00m\n",
      "File \u001b[0;32m~/miniconda3/envs/anomalib-dev-gsoc/lib/python3.10/site-packages/lightning_fabric/__init__.py:23\u001b[0m\n\u001b[1;32m     17\u001b[0m \u001b[39m# In PyTorch 2.0+, setting this variable will force `torch.cuda.is_available()` and `torch.cuda.device_count()`\u001b[39;00m\n\u001b[1;32m     18\u001b[0m \u001b[39m# to use an NVML-based implementation that doesn't poison forks.\u001b[39;00m\n\u001b[1;32m     19\u001b[0m \u001b[39m# https://github.com/pytorch/pytorch/issues/83973\u001b[39;00m\n\u001b[1;32m     20\u001b[0m os\u001b[39m.\u001b[39menviron[\u001b[39m\"\u001b[39m\u001b[39mPYTORCH_NVML_BASED_CUDA_CHECK\u001b[39m\u001b[39m\"\u001b[39m] \u001b[39m=\u001b[39m \u001b[39m\"\u001b[39m\u001b[39m1\u001b[39m\u001b[39m\"\u001b[39m\n\u001b[0;32m---> 23\u001b[0m \u001b[39mfrom\u001b[39;00m \u001b[39mlightning_fabric\u001b[39;00m\u001b[39m.\u001b[39;00m\u001b[39mfabric\u001b[39;00m \u001b[39mimport\u001b[39;00m Fabric  \u001b[39m# noqa: E402\u001b[39;00m\n\u001b[1;32m     24\u001b[0m \u001b[39mfrom\u001b[39;00m \u001b[39mlightning_fabric\u001b[39;00m\u001b[39m.\u001b[39;00m\u001b[39mutilities\u001b[39;00m\u001b[39m.\u001b[39;00m\u001b[39mseed\u001b[39;00m \u001b[39mimport\u001b[39;00m seed_everything  \u001b[39m# noqa: E402\u001b[39;00m\n\u001b[1;32m     26\u001b[0m __all__ \u001b[39m=\u001b[39m [\u001b[39m\"\u001b[39m\u001b[39mFabric\u001b[39m\u001b[39m\"\u001b[39m, \u001b[39m\"\u001b[39m\u001b[39mseed_everything\u001b[39m\u001b[39m\"\u001b[39m]\n",
      "File \u001b[0;32m~/miniconda3/envs/anomalib-dev-gsoc/lib/python3.10/site-packages/lightning_fabric/fabric.py:21\u001b[0m\n\u001b[1;32m     18\u001b[0m \u001b[39mfrom\u001b[39;00m \u001b[39mpathlib\u001b[39;00m \u001b[39mimport\u001b[39;00m Path\n\u001b[1;32m     19\u001b[0m \u001b[39mfrom\u001b[39;00m \u001b[39mtyping\u001b[39;00m \u001b[39mimport\u001b[39;00m Any, Callable, cast, Dict, Generator, List, Mapping, Optional, overload, Sequence, Tuple, Union\n\u001b[0;32m---> 21\u001b[0m \u001b[39mimport\u001b[39;00m \u001b[39mtorch\u001b[39;00m\n\u001b[1;32m     22\u001b[0m \u001b[39mimport\u001b[39;00m \u001b[39mtorch\u001b[39;00m\u001b[39m.\u001b[39;00m\u001b[39mnn\u001b[39;00m \u001b[39mas\u001b[39;00m \u001b[39mnn\u001b[39;00m\n\u001b[1;32m     23\u001b[0m \u001b[39mfrom\u001b[39;00m \u001b[39mlightning_utilities\u001b[39;00m\u001b[39m.\u001b[39;00m\u001b[39mcore\u001b[39;00m\u001b[39m.\u001b[39;00m\u001b[39mapply_func\u001b[39;00m \u001b[39mimport\u001b[39;00m apply_to_collection\n",
      "File \u001b[0;32m~/miniconda3/envs/anomalib-dev-gsoc/lib/python3.10/site-packages/torch/__init__.py:229\u001b[0m\n\u001b[1;32m    227\u001b[0m     \u001b[39mif\u001b[39;00m USE_GLOBAL_DEPS:\n\u001b[1;32m    228\u001b[0m         _load_global_deps()\n\u001b[0;32m--> 229\u001b[0m     \u001b[39mfrom\u001b[39;00m \u001b[39mtorch\u001b[39;00m\u001b[39m.\u001b[39;00m\u001b[39m_C\u001b[39;00m \u001b[39mimport\u001b[39;00m \u001b[39m*\u001b[39m  \u001b[39m# noqa: F403\u001b[39;00m\n\u001b[1;32m    231\u001b[0m \u001b[39m# Appease the type checker; ordinarily this binding is inserted by the\u001b[39;00m\n\u001b[1;32m    232\u001b[0m \u001b[39m# torch._C module initialization code in C\u001b[39;00m\n\u001b[1;32m    233\u001b[0m \u001b[39mif\u001b[39;00m TYPE_CHECKING:\n",
      "\u001b[0;31mKeyboardInterrupt\u001b[0m: "
     ]
    }
   ],
   "source": [
    "from anomalib.data import TaskType\n",
    "\n",
    "task = TaskType.SEGMENTATION"
   ]
  },
  {
   "cell_type": "markdown",
   "metadata": {},
   "source": [
    "And with the `hazelnut` category at resolution of 256x256 pixels."
   ]
  },
  {
   "cell_type": "code",
   "execution_count": null,
   "metadata": {},
   "outputs": [
    {
     "name": "stdout",
     "output_type": "stream",
     "text": [
      "Image Shape: torch.Size([32, 3, 256, 256]) Mask Shape: torch.Size([32, 256, 256])\n"
     ]
    }
   ],
   "source": [
    "from anomalib.data.mvtec import MVTec\n",
    "\n",
    "datamodule = MVTec(\n",
    "    root=dataset_root,\n",
    "    category=\"hazelnut\",\n",
    "    image_size=256,\n",
    "    train_batch_size=32,\n",
    "    eval_batch_size=32,\n",
    "    num_workers=8,\n",
    "    task=task,\n",
    ")\n",
    "datamodule.setup()\n",
    "i, data = next(enumerate(datamodule.test_dataloader()))\n",
    "print(f'Image Shape: {data[\"image\"].shape} Mask Shape: {data[\"mask\"].shape}')"
   ]
  },
  {
   "attachments": {},
   "cell_type": "markdown",
   "metadata": {},
   "source": [
    "# Model\n",
    "\n",
    "We will use PaDiM.\n",
    "\n",
    "> See [these notebooks](https://github.com/openvinotoolkit/anomalib/tree/main/notebooks/200_models) for more details on models. \n",
    "\n",
    "The next cell instantiates and trains the model.\n",
    "\n",
    "The `MetricsConfigurationCallback()` will not have metric because they will be created manually."
   ]
  },
  {
   "cell_type": "code",
   "execution_count": null,
   "metadata": {},
   "outputs": [
    {
     "name": "stderr",
     "output_type": "stream",
     "text": [
      "/home/jcasagrandebertoldo/miniconda3/envs/anomalib-dev-gsoc/lib/python3.10/site-packages/torch/cuda/__init__.py:546: UserWarning: Can't initialize NVML\n",
      "  warnings.warn(\"Can't initialize NVML\")\n",
      "/home/jcasagrandebertoldo/miniconda3/envs/anomalib-dev-gsoc/lib/python3.10/site-packages/torchmetrics/utilities/prints.py:36: UserWarning: Metric `PrecisionRecallCurve` will save all targets and predictions in buffer. For large datasets this may lead to large memory footprint.\n",
      "  warnings.warn(*args, **kwargs)\n",
      "FeatureExtractor is deprecated. Use TimmFeatureExtractor instead. Both FeatureExtractor and TimmFeatureExtractor will be removed in a future release.\n",
      "GPU available: False, used: False\n",
      "TPU available: False, using: 0 TPU cores\n",
      "IPU available: False, using: 0 IPUs\n",
      "HPU available: False, using: 0 HPUs\n",
      "/home/jcasagrandebertoldo/miniconda3/envs/anomalib-dev-gsoc/lib/python3.10/site-packages/pytorch_lightning/trainer/connectors/logger_connector/logger_connector.py:67: UserWarning: Starting from v1.9.0, `tensorboardX` has been removed as a dependency of the `pytorch_lightning` package, due to potential conflicts with other packages in the ML ecosystem. For this reason, `logger=True` will use `CSVLogger` as the default logger, unless the `tensorboard` or `tensorboardX` packages are found. Please `pip install lightning[extra]` or one of them to enable TensorBoard support by default\n",
      "  warning_cache.warn(\n",
      "/home/jcasagrandebertoldo/miniconda3/envs/anomalib-dev-gsoc/lib/python3.10/site-packages/pytorch_lightning/core/optimizer.py:183: UserWarning: `LightningModule.configure_optimizers` returned `None`, this fit will run with no optimizer\n",
      "  rank_zero_warn(\n",
      "\n",
      "  | Name            | Type                     | Params\n",
      "-------------------------------------------------------------\n",
      "0 | image_threshold | AnomalyScoreThreshold    | 0     \n",
      "1 | pixel_threshold | AnomalyScoreThreshold    | 0     \n",
      "2 | model           | PadimModel               | 683 K \n",
      "3 | image_metrics   | AnomalibMetricCollection | 0     \n",
      "4 | pixel_metrics   | AnomalibMetricCollection | 0     \n",
      "-------------------------------------------------------------\n",
      "683 K     Trainable params\n",
      "0         Non-trainable params\n",
      "683 K     Total params\n",
      "2.732     Total estimated model params size (MB)\n",
      "/home/jcasagrandebertoldo/miniconda3/envs/anomalib-dev-gsoc/lib/python3.10/site-packages/pytorch_lightning/trainer/trainer.py:1609: PossibleUserWarning: The number of training batches (13) is smaller than the logging interval Trainer(log_every_n_steps=50). Set a lower value for log_every_n_steps if you want to see logs for the training epoch.\n",
      "  rank_zero_warn(\n"
     ]
    },
    {
     "data": {
      "application/vnd.jupyter.widget-view+json": {
       "model_id": "9ea86a17030144b9b461c43f7cd744b5",
       "version_major": 2,
       "version_minor": 0
      },
      "text/plain": [
       "Training: 0it [00:00, ?it/s]"
      ]
     },
     "metadata": {},
     "output_type": "display_data"
    },
    {
     "name": "stderr",
     "output_type": "stream",
     "text": [
      "/home/jcasagrandebertoldo/miniconda3/envs/anomalib-dev-gsoc/lib/python3.10/site-packages/pytorch_lightning/loops/optimization/optimizer_loop.py:138: UserWarning: `training_step` returned `None`. If this was on purpose, ignore this warning...\n",
      "  self.warning_cache.warn(\"`training_step` returned `None`. If this was on purpose, ignore this warning...\")\n"
     ]
    },
    {
     "data": {
      "application/vnd.jupyter.widget-view+json": {
       "model_id": "5307fa4323bd4b44bed67806e259529e",
       "version_major": 2,
       "version_minor": 0
      },
      "text/plain": [
       "Validation: 0it [00:00, ?it/s]"
      ]
     },
     "metadata": {},
     "output_type": "display_data"
    },
    {
     "name": "stderr",
     "output_type": "stream",
     "text": [
      "`Trainer.fit` stopped: `max_epochs=1` reached.\n"
     ]
    }
   ],
   "source": [
    "from pytorch_lightning import Trainer\n",
    "\n",
    "from anomalib.utils.callbacks import MetricsConfigurationCallback, PostProcessingConfigurationCallback\n",
    "from anomalib.post_processing import NormalizationMethod, ThresholdMethod\n",
    "from anomalib.models import Padim\n",
    "\n",
    "model = Padim(\n",
    "    input_size=(256, 256),\n",
    "    layers=[\n",
    "        \"layer1\",\n",
    "        \"layer2\",\n",
    "    ],\n",
    "    backbone=\"resnet18\",\n",
    "    pre_trained=True,\n",
    ")\n",
    "\n",
    "trainer = Trainer(\n",
    "    callbacks=[\n",
    "        PostProcessingConfigurationCallback(\n",
    "            normalization_method=NormalizationMethod.MIN_MAX,\n",
    "            threshold_method=ThresholdMethod.ADAPTIVE,\n",
    "        ),\n",
    "        MetricsConfigurationCallback(),\n",
    "    ],\n",
    "    max_epochs=1,\n",
    "    num_sanity_val_steps=0,  # does not work for padim\n",
    "    accelerator=\"auto\",\n",
    ")\n",
    "\n",
    "trainer.fit(datamodule=datamodule, model=model)"
   ]
  },
  {
   "attachments": {},
   "cell_type": "markdown",
   "metadata": {},
   "source": [
    "# Process test images\n",
    "\n",
    "This part is usually happening automatically but here we want to extract the outputs manually."
   ]
  },
  {
   "cell_type": "code",
   "execution_count": null,
   "metadata": {},
   "outputs": [
    {
     "name": "stdout",
     "output_type": "stream",
     "text": [
      "anomaly_maps.shape=torch.Size([110, 256, 256]) masks.shape=torch.Size([110, 256, 256])\n"
     ]
    }
   ],
   "source": [
    "import torch\n",
    "\n",
    "model.eval()\n",
    "\n",
    "outputs = []\n",
    "for batchidx, batch in enumerate(datamodule.test_dataloader()):\n",
    "    outputs.append(model.test_step_end(model.test_step(batch, batchidx)))\n",
    "\n",
    "anomaly_maps = torch.squeeze(torch.cat([o[\"anomaly_maps\"] for o in outputs], dim=0))\n",
    "masks = torch.squeeze(torch.cat([o[\"mask\"] for o in outputs], dim=0)).int()\n",
    "print(f\"{anomaly_maps.shape=} {masks.shape=}\")"
   ]
  },
  {
   "cell_type": "markdown",
   "metadata": {},
   "source": [
    "# Pixel-wise [set] metrics\n",
    "\n",
    "The usual set pixel-wise metrics. \n",
    "\n",
    "Only one value for the whole test set is measured."
   ]
  },
  {
   "cell_type": "code",
   "execution_count": null,
   "metadata": {},
   "outputs": [
    {
     "name": "stderr",
     "output_type": "stream",
     "text": [
      "/home/jcasagrandebertoldo/miniconda3/envs/anomalib-dev-gsoc/lib/python3.10/site-packages/torchmetrics/utilities/prints.py:36: UserWarning: Metric `ROC` will save all targets and predictions in buffer. For large datasets this may lead to large memory footprint.\n",
      "  warnings.warn(*args, **kwargs)\n",
      "/home/jcasagrandebertoldo/miniconda3/envs/anomalib-dev-gsoc/lib/python3.10/site-packages/torchmetrics/utilities/prints.py:36: UserWarning: Metric `PrecisionRecallCurve` will save all targets and predictions in buffer. For large datasets this may lead to large memory footprint.\n",
      "  warnings.warn(*args, **kwargs)\n"
     ]
    },
    {
     "name": "stdout",
     "output_type": "stream",
     "text": [
      "AUROC()=0.978354275226593\n",
      "AUPR()=0.5078392028808594\n"
     ]
    },
    {
     "data": {
      "image/png": "[encoded data removed]",
      "text/plain": [
       "<Figure size 640x480 with 1 Axes>"
      ]
     },
     "metadata": {},
     "output_type": "display_data"
    },
    {
     "data": {
      "image/png": "[encoded data removed]",
      "text/plain": [
       "<Figure size 640x480 with 1 Axes>"
      ]
     },
     "metadata": {},
     "output_type": "display_data"
    }
   ],
   "source": [
    "import torch\n",
    "from anomalib.utils.metrics import AUROC, AUPR\n",
    "\n",
    "metrics = [AUROC(), AUPR()]\n",
    "\n",
    "for metric in metrics:\n",
    "    metric.cpu()\n",
    "    metric.update(anomaly_maps, masks)\n",
    "\n",
    "for metric in metrics:\n",
    "    print(f\"{metric}={metric.compute()}\")\n",
    "    metric.generate_figure()"
   ]
  },
  {
   "cell_type": "markdown",
   "metadata": {},
   "source": [
    "# Area Under the Per-Image Overlap (AUPImO)"
   ]
  },
  {
   "cell_type": "code",
   "execution_count": null,
   "metadata": {},
   "outputs": [
    {
     "name": "stderr",
     "output_type": "stream",
     "text": [
      "/home/jcasagrandebertoldo/repos/anomalib/src/anomalib/utils/metrics/perimg/binclf_curve.py:361: UserWarning: Metric `AUPImO` will save all targets and predictions in buffer. For large datasets this may lead to large memory footprint.\n",
      "  warnings.warn(\n"
     ]
    }
   ],
   "source": [
    "from anomalib.utils.metrics.perimg import AUPImO\n",
    "\n",
    "aupimo = AUPImO()\n",
    "aupimo.cpu()\n",
    "aupimo.update(anomaly_maps, masks)"
   ]
  },
  {
   "cell_type": "markdown",
   "metadata": {},
   "source": [
    "The AUPImO has a shared X-axis and a per-image Y-axis.\n",
    "\n",
    "The X-axis is a metric of False Positives in the normal images.\n",
    "\n",
    "The Y-axis is the overlap between the binary predicted mask and the ground truth mask of anomalous images, which corresponds to the True Positive Rate (TPR) in a single image."
   ]
  },
  {
   "cell_type": "code",
   "execution_count": null,
   "metadata": {},
   "outputs": [
    {
     "name": "stdout",
     "output_type": "stream",
     "text": [
      "thresholds.shape=torch.Size([10000])\n",
      "fpr.shape=torch.Size([10000])\n",
      "tprs.shape=torch.Size([110, 10000])\n",
      "image_classes.shape=torch.Size([110])\n",
      "aucs.shape=torch.Size([110])\n",
      "CPU times: user 2.74 s, sys: 24.3 ms, total: 2.77 s\n",
      "Wall time: 2.45 s\n"
     ]
    }
   ],
   "source": [
    "%%time\n",
    "thresholds, fpr, tprs, image_classes, aucs = aupimo.compute()\n",
    "print(f\"{thresholds.shape=}\")\n",
    "print(f\"{fpr.shape=}\")\n",
    "print(f\"{tprs.shape=}\")\n",
    "print(f\"{image_classes.shape=}\")\n",
    "print(f\"{aucs.shape=}\")"
   ]
  },
  {
   "cell_type": "markdown",
   "metadata": {},
   "source": [
    "Notice that `aucs` has the number of images seen in `outputs`."
   ]
  },
  {
   "cell_type": "code",
   "execution_count": null,
   "metadata": {},
   "outputs": [
    {
     "data": {
      "text/plain": [
       "torch.Size([110, 256, 256])"
      ]
     },
     "execution_count": 35,
     "metadata": {},
     "output_type": "execute_result"
    }
   ],
   "source": [
    "masks.shape"
   ]
  },
  {
   "cell_type": "markdown",
   "metadata": {},
   "source": [
    "which includes normal images.\n",
    "\n",
    "However, the `Per-Image Overlap`, by definition, is not defined on the normal images, so they have `nan`s."
   ]
  },
  {
   "cell_type": "code",
   "execution_count": null,
   "metadata": {},
   "outputs": [
    {
     "data": {
      "text/plain": [
       "tensor([0.9942, 0.9955, 0.9826, 0.9882, 0.9969, 0.9952, 0.9902, 0.9782, 0.9973,\n",
       "        0.9790, 0.9632, 0.9911, 0.9589, 0.9780, 0.9904, 0.9843, 0.9925, 0.9704,\n",
       "        0.9976, 0.9934, 0.9959, 0.9966, 0.9936, 0.9975, 0.9923, 0.9965, 0.9810,\n",
       "        0.9954, 0.9971, 0.9974, 0.9972, 0.9952, 0.9854, 0.9943, 0.9908,    nan,\n",
       "           nan,    nan,    nan,    nan,    nan,    nan,    nan,    nan,    nan,\n",
       "           nan,    nan,    nan,    nan,    nan,    nan,    nan,    nan,    nan,\n",
       "           nan,    nan,    nan,    nan,    nan,    nan,    nan,    nan,    nan,\n",
       "           nan,    nan,    nan,    nan,    nan,    nan,    nan,    nan,    nan,\n",
       "           nan,    nan,    nan, 0.9983, 0.9995, 0.9993, 0.9990, 0.9990, 0.9984,\n",
       "        0.9850, 1.0000, 0.9982, 0.9982, 0.9965, 0.9850, 0.9909, 0.9965, 0.9756,\n",
       "        0.9991, 0.9721, 0.9972, 0.9989, 0.9989, 0.9995, 0.9935, 0.9989, 0.9933,\n",
       "        0.9992, 0.9978, 0.9996, 0.9962, 0.9992, 0.9978, 0.9988, 0.9948, 0.9967,\n",
       "        0.9962, 0.9982], dtype=torch.float64)"
      ]
     },
     "execution_count": 36,
     "metadata": {},
     "output_type": "execute_result"
    }
   ],
   "source": [
    "aucs"
   ]
  },
  {
   "cell_type": "markdown",
   "metadata": {},
   "source": [
    "This is intentional. This way, the indexes in `aucs` correspond to the indices of the actual images."
   ]
  },
  {
   "cell_type": "markdown",
   "metadata": {},
   "source": [
    "One can now analyze the destribution of this True Posivity metric across images:"
   ]
  },
  {
   "cell_type": "code",
   "execution_count": null,
   "metadata": {},
   "outputs": [
    {
     "data": {
      "text/plain": [
       "DescribeResult(nobs=70, minmax=(0.9589231384925123, 0.9999806614665242), mean=0.9924130474580118, variance=7.935461703793649e-05, skewness=-1.8900838845041568, kurtosis=3.238520926456017)"
      ]
     },
     "execution_count": 37,
     "metadata": {},
     "output_type": "execute_result"
    }
   ],
   "source": [
    "import scipy as sp\n",
    "\n",
    "sp.stats.describe(aucs[~torch.isnan(aucs)])"
   ]
  }
 ],
 "metadata": {
  "kernelspec": {
   "display_name": "anomalib-dev-gsoc",
   "language": "python",
   "name": "anomalib-dev-gsoc"
  },
  "language_info": {
   "codemirror_mode": {
    "name": "ipython",
    "version": 3
   },
   "file_extension": ".py",
   "mimetype": "text/x-python",
   "name": "python",
   "nbconvert_exporter": "python",
   "pygments_lexer": "ipython3",
   "version": "3.10.12"
  },
  "orig_nbformat": 4
 },
 "nbformat": 4,
 "nbformat_minor": 2
}
